{
 "cells": [
  {
   "cell_type": "markdown",
   "metadata": {},
   "source": [
    "# Whatsapp Chat Analyser"
   ]
  },
  {
   "cell_type": "markdown",
   "metadata": {},
   "source": [
    "## Reading Chat"
   ]
  },
  {
   "cell_type": "code",
   "execution_count": 1,
   "metadata": {},
   "outputs": [],
   "source": [
    "import pandas as pd"
   ]
  },
  {
   "cell_type": "code",
   "execution_count": 2,
   "metadata": {},
   "outputs": [
    {
     "data": {
      "text/html": [
       "<div>\n",
       "<style scoped>\n",
       "    .dataframe tbody tr th:only-of-type {\n",
       "        vertical-align: middle;\n",
       "    }\n",
       "\n",
       "    .dataframe tbody tr th {\n",
       "        vertical-align: top;\n",
       "    }\n",
       "\n",
       "    .dataframe thead th {\n",
       "        text-align: right;\n",
       "    }\n",
       "</style>\n",
       "<table border=\"1\" class=\"dataframe\">\n",
       "  <thead>\n",
       "    <tr style=\"text-align: right;\">\n",
       "      <th></th>\n",
       "      <th>Date</th>\n",
       "      <th>Time</th>\n",
       "      <th>Name</th>\n",
       "      <th>Message</th>\n",
       "    </tr>\n",
       "  </thead>\n",
       "  <tbody>\n",
       "    <tr>\n",
       "      <th>0</th>\n",
       "      <td>2014-09-07</td>\n",
       "      <td>22:57:00</td>\n",
       "      <td>BD</td>\n",
       "      <td>Yo yo</td>\n",
       "    </tr>\n",
       "    <tr>\n",
       "      <th>1</th>\n",
       "      <td>2014-10-16</td>\n",
       "      <td>23:02:00</td>\n",
       "      <td>BD</td>\n",
       "      <td>Dude one help pro</td>\n",
       "    </tr>\n",
       "    <tr>\n",
       "      <th>2</th>\n",
       "      <td>2014-10-17</td>\n",
       "      <td>17:24:00</td>\n",
       "      <td>sony</td>\n",
       "      <td>dude going tmrw is a waste of time</td>\n",
       "    </tr>\n",
       "    <tr>\n",
       "      <th>3</th>\n",
       "      <td>2014-10-17</td>\n",
       "      <td>16:08:00</td>\n",
       "      <td>BD</td>\n",
       "      <td>Yyyyyy u tell me please why aren't u not coming</td>\n",
       "    </tr>\n",
       "    <tr>\n",
       "      <th>4</th>\n",
       "      <td>2014-10-17</td>\n",
       "      <td>22:28:00</td>\n",
       "      <td>sony</td>\n",
       "      <td>what doing</td>\n",
       "    </tr>\n",
       "  </tbody>\n",
       "</table>\n",
       "</div>"
      ],
      "text/plain": [
       "        Date      Time  Name                                          Message\n",
       "0 2014-09-07  22:57:00    BD                                            Yo yo\n",
       "1 2014-10-16  23:02:00    BD                                Dude one help pro\n",
       "2 2014-10-17  17:24:00  sony               dude going tmrw is a waste of time\n",
       "3 2014-10-17  16:08:00    BD  Yyyyyy u tell me please why aren't u not coming\n",
       "4 2014-10-17  22:28:00  sony                                       what doing"
      ]
     },
     "execution_count": 2,
     "metadata": {},
     "output_type": "execute_result"
    }
   ],
   "source": [
    "import read_chat_DM\n",
    "data = read_chat_DM.getMessages(\"data/chat.txt\")\n",
    "data.head()"
   ]
  },
  {
   "cell_type": "markdown",
   "metadata": {},
   "source": [
    "## Basic exploratory analysis"
   ]
  },
  {
   "cell_type": "markdown",
   "metadata": {},
   "source": [
    "### Checking for null values "
   ]
  },
  {
   "cell_type": "code",
   "execution_count": 3,
   "metadata": {},
   "outputs": [
    {
     "data": {
      "text/html": [
       "<div>\n",
       "<style scoped>\n",
       "    .dataframe tbody tr th:only-of-type {\n",
       "        vertical-align: middle;\n",
       "    }\n",
       "\n",
       "    .dataframe tbody tr th {\n",
       "        vertical-align: top;\n",
       "    }\n",
       "\n",
       "    .dataframe thead th {\n",
       "        text-align: right;\n",
       "    }\n",
       "</style>\n",
       "<table border=\"1\" class=\"dataframe\">\n",
       "  <thead>\n",
       "    <tr style=\"text-align: right;\">\n",
       "      <th></th>\n",
       "      <th>Date</th>\n",
       "      <th>Time</th>\n",
       "      <th>Name</th>\n",
       "      <th>Message</th>\n",
       "    </tr>\n",
       "  </thead>\n",
       "  <tbody>\n",
       "  </tbody>\n",
       "</table>\n",
       "</div>"
      ],
      "text/plain": [
       "Empty DataFrame\n",
       "Columns: [Date, Time, Name, Message]\n",
       "Index: []"
      ]
     },
     "execution_count": 3,
     "metadata": {},
     "output_type": "execute_result"
    }
   ],
   "source": [
    "data[data.isnull().any(1)]"
   ]
  },
  {
   "cell_type": "markdown",
   "metadata": {},
   "source": [
    "Found out that Name can have null in encryption key message so fixed it in preprocessing lib\n",
    "\n",
    "    ex: 4/6/16, 7:00 AM - Messages and calls are end-to-end encrypted. No one outside of this chat, not even WhatsApp, can read or listen to them. Tap to learn more.\n"
   ]
  },
  {
   "cell_type": "markdown",
   "metadata": {},
   "source": [
    "### Basic chat insights "
   ]
  },
  {
   "cell_type": "code",
   "execution_count": 4,
   "metadata": {},
   "outputs": [
    {
     "name": "stdout",
     "output_type": "stream",
     "text": [
      "-------------------------------- Basic EDA -------------------------------------\n",
      "Total messages :\t6263\n",
      "Parties involved :\t['BD' 'sony']\n",
      "--------------------------------------------------------------------------------\n",
      "BD \t sent \t 3785 messages \n",
      "sony \t sent \t 2478 messages \n",
      "--------------------------------------------------------------------------------\n",
      "Frist intraction: \n",
      "By \t\t: BD\n",
      "On \t\t: 2014-09-07 00:00:00\n",
      "Message \t: Yo yo\n",
      "--------------------------------------------------------------------------------\n",
      "Total number of days : 2577\n",
      "Avg. messages per day :2.4303453628249905\n",
      "--------------------------------------------------------------------------------\n"
     ]
    }
   ],
   "source": [
    "print(\"-------------------------------- Basic EDA -------------------------------------\")\n",
    "\n",
    "total_messages = data.shape[0]\n",
    "print(\"Total messages :\\t\"+str(total_messages))\n",
    "\n",
    "parties_involved = data['Name'].unique()\n",
    "print(\"Parties involved :\\t\"+str(parties_involved))\n",
    "\n",
    "print(\"--------------------------------------------------------------------------------\")\n",
    "\n",
    "for i in parties_involved:\n",
    "    print(\"%s \\t sent \\t %d messages \"%(i,data[data['Name'] == i].shape[0]))\n",
    "\n",
    "print(\"--------------------------------------------------------------------------------\")\n",
    "\n",
    "print(\"Frist intraction: \")\n",
    "\n",
    "print(\"By \\t\\t: \" + data.iloc[0]['Name'])\n",
    "print(\"On \\t\\t: \" + str(data.iloc[0]['Date']))\n",
    "print(\"Message \\t: \" + data.iloc[0]['Message'])\n",
    "\n",
    "print(\"--------------------------------------------------------------------------------\")\n",
    "\n",
    "total_number_of_days = (data[\"Date\"].max() - data[\"Date\"].min()).days + 1\n",
    "print (\"Total number of days : \" + str(total_number_of_days))\n",
    "print (\"Avg. messages per day :\" +  str(total_messages/total_number_of_days))\n",
    "\n",
    "print(\"--------------------------------------------------------------------------------\")"
   ]
  },
  {
   "cell_type": "code",
   "execution_count": 16,
   "metadata": {},
   "outputs": [
    {
     "data": {
      "text/html": [
       "<div>\n",
       "<style scoped>\n",
       "    .dataframe tbody tr th:only-of-type {\n",
       "        vertical-align: middle;\n",
       "    }\n",
       "\n",
       "    .dataframe tbody tr th {\n",
       "        vertical-align: top;\n",
       "    }\n",
       "\n",
       "    .dataframe thead th {\n",
       "        text-align: right;\n",
       "    }\n",
       "</style>\n",
       "<table border=\"1\" class=\"dataframe\">\n",
       "  <thead>\n",
       "    <tr style=\"text-align: right;\">\n",
       "      <th></th>\n",
       "      <th>Date</th>\n",
       "      <th>Time</th>\n",
       "      <th>Name</th>\n",
       "      <th>Message</th>\n",
       "      <th>year</th>\n",
       "      <th>month</th>\n",
       "      <th>day_of_week</th>\n",
       "    </tr>\n",
       "  </thead>\n",
       "  <tbody>\n",
       "    <tr>\n",
       "      <th>0</th>\n",
       "      <td>2014-09-07</td>\n",
       "      <td>22:57:00</td>\n",
       "      <td>BD</td>\n",
       "      <td>Yo yo</td>\n",
       "      <td>2014</td>\n",
       "      <td>Sep</td>\n",
       "      <td>Sun</td>\n",
       "    </tr>\n",
       "    <tr>\n",
       "      <th>1</th>\n",
       "      <td>2014-10-16</td>\n",
       "      <td>23:02:00</td>\n",
       "      <td>BD</td>\n",
       "      <td>Dude one help pro</td>\n",
       "      <td>2014</td>\n",
       "      <td>Oct</td>\n",
       "      <td>Thu</td>\n",
       "    </tr>\n",
       "    <tr>\n",
       "      <th>2</th>\n",
       "      <td>2014-10-17</td>\n",
       "      <td>17:24:00</td>\n",
       "      <td>sony</td>\n",
       "      <td>dude going tmrw is a waste of time</td>\n",
       "      <td>2014</td>\n",
       "      <td>Oct</td>\n",
       "      <td>Fri</td>\n",
       "    </tr>\n",
       "    <tr>\n",
       "      <th>3</th>\n",
       "      <td>2014-10-17</td>\n",
       "      <td>16:08:00</td>\n",
       "      <td>BD</td>\n",
       "      <td>Yyyyyy u tell me please why aren't u not coming</td>\n",
       "      <td>2014</td>\n",
       "      <td>Oct</td>\n",
       "      <td>Fri</td>\n",
       "    </tr>\n",
       "    <tr>\n",
       "      <th>4</th>\n",
       "      <td>2014-10-17</td>\n",
       "      <td>22:28:00</td>\n",
       "      <td>sony</td>\n",
       "      <td>what doing</td>\n",
       "      <td>2014</td>\n",
       "      <td>Oct</td>\n",
       "      <td>Fri</td>\n",
       "    </tr>\n",
       "  </tbody>\n",
       "</table>\n",
       "</div>"
      ],
      "text/plain": [
       "        Date      Time  Name                                          Message  \\\n",
       "0 2014-09-07  22:57:00    BD                                            Yo yo   \n",
       "1 2014-10-16  23:02:00    BD                                Dude one help pro   \n",
       "2 2014-10-17  17:24:00  sony               dude going tmrw is a waste of time   \n",
       "3 2014-10-17  16:08:00    BD  Yyyyyy u tell me please why aren't u not coming   \n",
       "4 2014-10-17  22:28:00  sony                                       what doing   \n",
       "\n",
       "   year month day_of_week  \n",
       "0  2014   Sep         Sun  \n",
       "1  2014   Oct         Thu  \n",
       "2  2014   Oct         Fri  \n",
       "3  2014   Oct         Fri  \n",
       "4  2014   Oct         Fri  "
      ]
     },
     "execution_count": 16,
     "metadata": {},
     "output_type": "execute_result"
    }
   ],
   "source": [
    "import matplotlib.pyplot as plt\n",
    "%matplotlib inline\n",
    "\n",
    "data[\"Year\"] = data[\"Date\"].apply(lambda x: x.year)\n",
    "\n",
    "data[\"Month\"] = data[\"Date\"].apply(lambda x: x.strftime(\"%b\"))\n",
    "months = ['Jan', 'Feb', 'Mar', 'Apr', 'May', 'Jun', 'Jul', 'Aug', 'Sep', 'Oct', 'Nov', 'Dec']\n",
    "data['Month'] = pd.Categorical(data['Month'], months)\n",
    "\n",
    "data[\"Day\"] = data[\"Date\"].apply(lambda x: x.strftime('%a'))\n",
    "day_of_week = ['Mon', 'Tue', 'Wed', 'Thu', 'Fri', 'Sat', 'Sun']\n",
    "data['Day'] = pd.Categorical(data['Day'], day_of_week)\n",
    "data.head()"
   ]
  },
  {
   "cell_type": "code",
   "execution_count": 23,
   "metadata": {},
   "outputs": [
    {
     "name": "stdout",
     "output_type": "stream",
     "text": [
      "Requirement already satisfied: wordcloud in c:\\users\\sonyd\\anaconda3\\lib\\site-packages (1.8.1)\n",
      "Requirement already satisfied: numpy>=1.6.1 in c:\\users\\sonyd\\anaconda3\\lib\\site-packages (from wordcloud) (1.19.5)\n",
      "Requirement already satisfied: matplotlib in c:\\users\\sonyd\\anaconda3\\lib\\site-packages (from wordcloud) (3.3.4)\n",
      "Requirement already satisfied: pillow in c:\\users\\sonyd\\anaconda3\\lib\\site-packages (from wordcloud) (8.2.0)\n",
      "Requirement already satisfied: kiwisolver>=1.0.1 in c:\\users\\sonyd\\anaconda3\\lib\\site-packages (from matplotlib->wordcloud) (1.3.1)\n",
      "Requirement already satisfied: pyparsing!=2.0.4,!=2.1.2,!=2.1.6,>=2.0.3 in c:\\users\\sonyd\\anaconda3\\lib\\site-packages (from matplotlib->wordcloud) (2.4.7)\n",
      "Requirement already satisfied: cycler>=0.10 in c:\\users\\sonyd\\anaconda3\\lib\\site-packages (from matplotlib->wordcloud) (0.10.0)\n",
      "Requirement already satisfied: python-dateutil>=2.1 in c:\\users\\sonyd\\anaconda3\\lib\\site-packages (from matplotlib->wordcloud) (2.8.1)\n",
      "Requirement already satisfied: six in c:\\users\\sonyd\\anaconda3\\lib\\site-packages (from cycler>=0.10->matplotlib->wordcloud) (1.15.0)\n"
     ]
    },
    {
     "data": {
     },
     "metadata": {
      "needs_background": "light"
     },
     "output_type": "display_data"
    }
   ],
   "source": [
    "!pip install wordcloud\n",
    "from wordcloud import WordCloud\n",
    "\n",
    "def wordcloud_(content, title=\"\", generate_from_frequencies=False, mask=None, background_color='black'):\n",
    "    wordcloud = WordCloud(background_color=background_color,\n",
    "#                           stopwords = set(STOPWORDS),\n",
    "                          max_words = 100,\n",
    "                          max_font_size = 200,\n",
    "#                           random_state = 4,\n",
    "                          height=400, width=800,\n",
    "                          prefer_horizontal=0.9,\n",
    "                          relative_scaling=0.6,\n",
    "                          mask=mask\n",
    "                     )\n",
    "    \n",
    "    if (generate_from_frequencies):\n",
    "        wordcloud.generate_from_frequencies(frequencies=content)\n",
    "    else:\n",
    "        wordcloud.generate(content)\n",
    "\n",
    "    plt.figure(figsize=(12, 8))\n",
    "    plt.imshow(wordcloud)\n",
    "    plt.title(title, fontdict={'size': 40})\n",
    "    plt.axis('off');\n",
    "    plt.tight_layout()\n",
    "\n",
    "text = ' '.join(data[\"Message\"].values)\n",
    "wordcloud_(text)"
   ]
  }
 ],
 "metadata": {
  "interpreter": {
   "hash": "14d58226b000867a3e3a22d1545bf3e9a2c53c0ca7f5955bd74934a048e3dcd7"
  },
  "kernelspec": {
   "display_name": "Python 3.8.8 64-bit ('base': conda)",
   "name": "python3"
  },
  "language_info": {
   "codemirror_mode": {
    "name": "ipython",
    "version": 3
   },
   "file_extension": ".py",
   "mimetype": "text/x-python",
   "name": "python",
   "nbconvert_exporter": "python",
   "pygments_lexer": "ipython3",
   "version": "3.8.12"
  },
  "orig_nbformat": 4
 },
 "nbformat": 4,
 "nbformat_minor": 2
}
