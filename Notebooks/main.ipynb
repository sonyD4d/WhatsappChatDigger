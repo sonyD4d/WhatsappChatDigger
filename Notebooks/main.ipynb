{
 "cells": [
  {
   "cell_type": "markdown",
   "source": [
    "# Whatsapp Chat Analyser"
   ],
   "metadata": {}
  },
  {
   "cell_type": "markdown",
   "source": [
    "## Reading Chat"
   ],
   "metadata": {}
  },
  {
   "cell_type": "code",
   "execution_count": 1,
   "source": [
    "import pandas as pd"
   ],
   "outputs": [],
   "metadata": {}
  },
  {
   "cell_type": "code",
   "execution_count": 2,
   "source": [
    "import read_chat_DM\r\n",
    "data = read_chat_DM.getMessages(\"data/chat.txt\")\r\n",
    "data.head()"
   ],
   "outputs": [
    {
     "output_type": "execute_result",
     "data": {
      "text/html": [
       "<div>\n",
       "<style scoped>\n",
       "    .dataframe tbody tr th:only-of-type {\n",
       "        vertical-align: middle;\n",
       "    }\n",
       "\n",
       "    .dataframe tbody tr th {\n",
       "        vertical-align: top;\n",
       "    }\n",
       "\n",
       "    .dataframe thead th {\n",
       "        text-align: right;\n",
       "    }\n",
       "</style>\n",
       "<table border=\"1\" class=\"dataframe\">\n",
       "  <thead>\n",
       "    <tr style=\"text-align: right;\">\n",
       "      <th></th>\n",
       "      <th>Date</th>\n",
       "      <th>Time</th>\n",
       "      <th>Name</th>\n",
       "      <th>Message</th>\n",
       "    </tr>\n",
       "  </thead>\n",
       "  <tbody>\n",
       "    <tr>\n",
       "      <th>0</th>\n",
       "      <td>2014-09-07</td>\n",
       "      <td>22:57:00</td>\n",
       "      <td>BD</td>\n",
       "      <td>Yo yo</td>\n",
       "    </tr>\n",
       "    <tr>\n",
       "      <th>1</th>\n",
       "      <td>2014-10-16</td>\n",
       "      <td>23:02:00</td>\n",
       "      <td>BD</td>\n",
       "      <td>Dude one help pro</td>\n",
       "    </tr>\n",
       "    <tr>\n",
       "      <th>2</th>\n",
       "      <td>2014-10-17</td>\n",
       "      <td>17:24:00</td>\n",
       "      <td>sony</td>\n",
       "      <td>dude going tmrw is a waste of time</td>\n",
       "    </tr>\n",
       "    <tr>\n",
       "      <th>3</th>\n",
       "      <td>2014-10-17</td>\n",
       "      <td>16:08:00</td>\n",
       "      <td>BD</td>\n",
       "      <td>Yyyyyy u tell me please why aren't u not coming</td>\n",
       "    </tr>\n",
       "    <tr>\n",
       "      <th>4</th>\n",
       "      <td>2014-10-17</td>\n",
       "      <td>22:28:00</td>\n",
       "      <td>sony</td>\n",
       "      <td>what doing</td>\n",
       "    </tr>\n",
       "  </tbody>\n",
       "</table>\n",
       "</div>"
      ],
      "text/plain": [
       "        Date      Time  Name                                          Message\n",
       "0 2014-09-07  22:57:00    BD                                            Yo yo\n",
       "1 2014-10-16  23:02:00    BD                                Dude one help pro\n",
       "2 2014-10-17  17:24:00  sony               dude going tmrw is a waste of time\n",
       "3 2014-10-17  16:08:00    BD  Yyyyyy u tell me please why aren't u not coming\n",
       "4 2014-10-17  22:28:00  sony                                       what doing"
      ]
     },
     "metadata": {},
     "execution_count": 2
    }
   ],
   "metadata": {}
  },
  {
   "cell_type": "markdown",
   "source": [
    "## Basic exploratory analysis"
   ],
   "metadata": {}
  },
  {
   "cell_type": "markdown",
   "source": [
    "### Checking for null values "
   ],
   "metadata": {}
  },
  {
   "cell_type": "code",
   "execution_count": 3,
   "source": [
    "data[data.isnull().any(1)]"
   ],
   "outputs": [
    {
     "output_type": "execute_result",
     "data": {
      "text/html": [
       "<div>\n",
       "<style scoped>\n",
       "    .dataframe tbody tr th:only-of-type {\n",
       "        vertical-align: middle;\n",
       "    }\n",
       "\n",
       "    .dataframe tbody tr th {\n",
       "        vertical-align: top;\n",
       "    }\n",
       "\n",
       "    .dataframe thead th {\n",
       "        text-align: right;\n",
       "    }\n",
       "</style>\n",
       "<table border=\"1\" class=\"dataframe\">\n",
       "  <thead>\n",
       "    <tr style=\"text-align: right;\">\n",
       "      <th></th>\n",
       "      <th>Date</th>\n",
       "      <th>Time</th>\n",
       "      <th>Name</th>\n",
       "      <th>Message</th>\n",
       "    </tr>\n",
       "  </thead>\n",
       "  <tbody>\n",
       "  </tbody>\n",
       "</table>\n",
       "</div>"
      ],
      "text/plain": [
       "Empty DataFrame\n",
       "Columns: [Date, Time, Name, Message]\n",
       "Index: []"
      ]
     },
     "metadata": {},
     "execution_count": 3
    }
   ],
   "metadata": {}
  },
  {
   "cell_type": "markdown",
   "source": [
    "Found out that Name can have null in encryption key message so fixed it in preprocessing lib\r\n",
    "\r\n",
    "    ex: 4/6/16, 7:00 AM - Messages and calls are end-to-end encrypted. No one outside of this chat, not even WhatsApp, can read or listen to them. Tap to learn more.\r\n"
   ],
   "metadata": {}
  },
  {
   "cell_type": "markdown",
   "source": [
    "### Basic chat insights "
   ],
   "metadata": {}
  },
  {
   "cell_type": "code",
   "execution_count": 4,
   "source": [
    "print(\"-------------------------------- Basic EDA -------------------------------------\")\r\n",
    "\r\n",
    "total_messages = data.shape[0]\r\n",
    "print(\"Total messages :\\t\"+str(total_messages))\r\n",
    "\r\n",
    "parties_involved = data['Name'].unique()\r\n",
    "print(\"Parties involved :\\t\"+str(parties_involved))\r\n",
    "\r\n",
    "print(\"--------------------------------------------------------------------------------\")\r\n",
    "\r\n",
    "for i in parties_involved:\r\n",
    "    print(\"%s \\t sent \\t %d messages \"%(i,data[data['Name'] == i].shape[0]))\r\n",
    "\r\n",
    "print(\"--------------------------------------------------------------------------------\")\r\n",
    "\r\n",
    "print(\"Frist intraction: \")\r\n",
    "\r\n",
    "print(\"By \\t\\t: \" + data.iloc[0]['Name'])\r\n",
    "print(\"On \\t\\t: \" + str(data.iloc[0]['Date']))\r\n",
    "print(\"Message \\t: \" + data.iloc[0]['Message'])\r\n",
    "\r\n",
    "print(\"--------------------------------------------------------------------------------\")\r\n",
    "\r\n",
    "total_number_of_days = (data[\"Date\"].max() - data[\"Date\"].min()).days + 1\r\n",
    "print (\"Total number of days : \" + str(total_number_of_days))\r\n",
    "print (\"Avg. messages per day :\" +  str(total_messages/total_number_of_days))\r\n",
    "\r\n",
    "print(\"--------------------------------------------------------------------------------\")"
   ],
   "outputs": [
    {
     "output_type": "stream",
     "name": "stdout",
     "text": [
      "-------------------------------- Basic EDA -------------------------------------\n",
      "Total messages :\t6263\n",
      "Parties involved :\t['BD' 'sony']\n",
      "--------------------------------------------------------------------------------\n",
      "BD \t sent \t 3785 messages \n",
      "sony \t sent \t 2478 messages \n",
      "--------------------------------------------------------------------------------\n",
      "Frist intraction: \n",
      "By \t\t: BD\n",
      "On \t\t: 2014-09-07 00:00:00\n",
      "Message \t: Yo yo\n",
      "--------------------------------------------------------------------------------\n",
      "Total number of days : 2577\n",
      "Avg. messages per day :2.4303453628249905\n",
      "--------------------------------------------------------------------------------\n"
     ]
    }
   ],
   "metadata": {}
  },
  {
   "cell_type": "code",
   "execution_count": 16,
   "source": [
    "import matplotlib.pyplot as plt\r\n",
    "%matplotlib inline\r\n",
    "\r\n",
    "data[\"Year\"] = data[\"Date\"].apply(lambda x: x.year)\r\n",
    "\r\n",
    "data[\"Month\"] = data[\"Date\"].apply(lambda x: x.strftime(\"%b\"))\r\n",
    "months = ['Jan', 'Feb', 'Mar', 'Apr', 'May', 'Jun', 'Jul', 'Aug', 'Sep', 'Oct', 'Nov', 'Dec']\r\n",
    "data['Month'] = pd.Categorical(data['Month'], months)\r\n",
    "\r\n",
    "data[\"Day\"] = data[\"Date\"].apply(lambda x: x.strftime('%a'))\r\n",
    "day_of_week = ['Mon', 'Tue', 'Wed', 'Thu', 'Fri', 'Sat', 'Sun']\r\n",
    "data['Day'] = pd.Categorical(data['Day'], day_of_week)\r\n",
    "data.head()"
   ],
   "outputs": [
    {
     "output_type": "execute_result",
     "data": {
      "text/html": [
       "<div>\n",
       "<style scoped>\n",
       "    .dataframe tbody tr th:only-of-type {\n",
       "        vertical-align: middle;\n",
       "    }\n",
       "\n",
       "    .dataframe tbody tr th {\n",
       "        vertical-align: top;\n",
       "    }\n",
       "\n",
       "    .dataframe thead th {\n",
       "        text-align: right;\n",
       "    }\n",
       "</style>\n",
       "<table border=\"1\" class=\"dataframe\">\n",
       "  <thead>\n",
       "    <tr style=\"text-align: right;\">\n",
       "      <th></th>\n",
       "      <th>Date</th>\n",
       "      <th>Time</th>\n",
       "      <th>Name</th>\n",
       "      <th>Message</th>\n",
       "      <th>year</th>\n",
       "      <th>month</th>\n",
       "      <th>day_of_week</th>\n",
       "    </tr>\n",
       "  </thead>\n",
       "  <tbody>\n",
       "    <tr>\n",
       "      <th>0</th>\n",
       "      <td>2014-09-07</td>\n",
       "      <td>22:57:00</td>\n",
       "      <td>BD</td>\n",
       "      <td>Yo yo</td>\n",
       "      <td>2014</td>\n",
       "      <td>Sep</td>\n",
       "      <td>Sun</td>\n",
       "    </tr>\n",
       "    <tr>\n",
       "      <th>1</th>\n",
       "      <td>2014-10-16</td>\n",
       "      <td>23:02:00</td>\n",
       "      <td>BD</td>\n",
       "      <td>Dude one help pro</td>\n",
       "      <td>2014</td>\n",
       "      <td>Oct</td>\n",
       "      <td>Thu</td>\n",
       "    </tr>\n",
       "    <tr>\n",
       "      <th>2</th>\n",
       "      <td>2014-10-17</td>\n",
       "      <td>17:24:00</td>\n",
       "      <td>sony</td>\n",
       "      <td>dude going tmrw is a waste of time</td>\n",
       "      <td>2014</td>\n",
       "      <td>Oct</td>\n",
       "      <td>Fri</td>\n",
       "    </tr>\n",
       "    <tr>\n",
       "      <th>3</th>\n",
       "      <td>2014-10-17</td>\n",
       "      <td>16:08:00</td>\n",
       "      <td>BD</td>\n",
       "      <td>Yyyyyy u tell me please why aren't u not coming</td>\n",
       "      <td>2014</td>\n",
       "      <td>Oct</td>\n",
       "      <td>Fri</td>\n",
       "    </tr>\n",
       "    <tr>\n",
       "      <th>4</th>\n",
       "      <td>2014-10-17</td>\n",
       "      <td>22:28:00</td>\n",
       "      <td>sony</td>\n",
       "      <td>what doing</td>\n",
       "      <td>2014</td>\n",
       "      <td>Oct</td>\n",
       "      <td>Fri</td>\n",
       "    </tr>\n",
       "  </tbody>\n",
       "</table>\n",
       "</div>"
      ],
      "text/plain": [
       "        Date      Time  Name                                          Message  \\\n",
       "0 2014-09-07  22:57:00    BD                                            Yo yo   \n",
       "1 2014-10-16  23:02:00    BD                                Dude one help pro   \n",
       "2 2014-10-17  17:24:00  sony               dude going tmrw is a waste of time   \n",
       "3 2014-10-17  16:08:00    BD  Yyyyyy u tell me please why aren't u not coming   \n",
       "4 2014-10-17  22:28:00  sony                                       what doing   \n",
       "\n",
       "   year month day_of_week  \n",
       "0  2014   Sep         Sun  \n",
       "1  2014   Oct         Thu  \n",
       "2  2014   Oct         Fri  \n",
       "3  2014   Oct         Fri  \n",
       "4  2014   Oct         Fri  "
      ]
     },
     "metadata": {},
     "execution_count": 16
    }
   ],
   "metadata": {}
  },
  {
   "cell_type": "code",
   "execution_count": 23,
   "source": [
    "!pip install wordcloud\r\n",
    "from wordcloud import WordCloud\r\n",
    "\r\n",
    "def wordcloud_(content, title=\"\", generate_from_frequencies=False, mask=None, background_color='black'):\r\n",
    "    wordcloud = WordCloud(background_color=background_color,\r\n",
    "#                           stopwords = set(STOPWORDS),\r\n",
    "                          max_words = 100,\r\n",
    "                          max_font_size = 200,\r\n",
    "#                           random_state = 4,\r\n",
    "                          height=400, width=800,\r\n",
    "                          prefer_horizontal=0.9,\r\n",
    "                          relative_scaling=0.6,\r\n",
    "                          mask=mask\r\n",
    "                     )\r\n",
    "    \r\n",
    "    if (generate_from_frequencies):\r\n",
    "        wordcloud.generate_from_frequencies(frequencies=content)\r\n",
    "    else:\r\n",
    "        wordcloud.generate(content)\r\n",
    "\r\n",
    "    plt.figure(figsize=(12, 8))\r\n",
    "    plt.imshow(wordcloud)\r\n",
    "    plt.title(title, fontdict={'size': 40})\r\n",
    "    plt.axis('off');\r\n",
    "    plt.tight_layout()\r\n",
    "\r\n",
    "text = ' '.join(data[\"Message\"].values)\r\n",
    "wordcloud_(text)"
   ],
   "outputs": [
    {
     "output_type": "stream",
     "name": "stdout",
     "text": [
      "Requirement already satisfied: wordcloud in c:\\users\\sonyd\\anaconda3\\lib\\site-packages (1.8.1)\n",
      "Requirement already satisfied: numpy>=1.6.1 in c:\\users\\sonyd\\anaconda3\\lib\\site-packages (from wordcloud) (1.19.5)\n",
      "Requirement already satisfied: matplotlib in c:\\users\\sonyd\\anaconda3\\lib\\site-packages (from wordcloud) (3.3.4)\n",
      "Requirement already satisfied: pillow in c:\\users\\sonyd\\anaconda3\\lib\\site-packages (from wordcloud) (8.2.0)\n",
      "Requirement already satisfied: kiwisolver>=1.0.1 in c:\\users\\sonyd\\anaconda3\\lib\\site-packages (from matplotlib->wordcloud) (1.3.1)\n",
      "Requirement already satisfied: pyparsing!=2.0.4,!=2.1.2,!=2.1.6,>=2.0.3 in c:\\users\\sonyd\\anaconda3\\lib\\site-packages (from matplotlib->wordcloud) (2.4.7)\n",
      "Requirement already satisfied: cycler>=0.10 in c:\\users\\sonyd\\anaconda3\\lib\\site-packages (from matplotlib->wordcloud) (0.10.0)\n",
      "Requirement already satisfied: python-dateutil>=2.1 in c:\\users\\sonyd\\anaconda3\\lib\\site-packages (from matplotlib->wordcloud) (2.8.1)\n",
      "Requirement already satisfied: six in c:\\users\\sonyd\\anaconda3\\lib\\site-packages (from cycler>=0.10->matplotlib->wordcloud) (1.15.0)\n"
     ]
    },
    {
     "output_type": "display_data",
     "data": {
     },
     "metadata": {
      "needs_background": "light"
     }
    }
   ],
   "metadata": {}
  }
 ],
 "metadata": {
  "orig_nbformat": 4,
  "language_info": {
   "name": "python",
   "version": "3.8.8",
   "mimetype": "text/x-python",
   "codemirror_mode": {
    "name": "ipython",
    "version": 3
   },
   "pygments_lexer": "ipython3",
   "nbconvert_exporter": "python",
   "file_extension": ".py"
  },
  "kernelspec": {
   "name": "python3",
   "display_name": "Python 3.8.8 64-bit ('base': conda)"
  },
  "interpreter": {
   "hash": "14d58226b000867a3e3a22d1545bf3e9a2c53c0ca7f5955bd74934a048e3dcd7"
  }
 },
 "nbformat": 4,
 "nbformat_minor": 2
}
